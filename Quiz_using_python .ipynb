{
 "cells": [
  {
   "cell_type": "code",
   "execution_count": null,
   "id": "bb4279ac",
   "metadata": {},
   "outputs": [],
   "source": [
    "import tkinter as tk\n",
    "from tkinter import messagebox\n",
    "\n",
    "\n",
    "class QuizApp:\n",
    "    def __init__(self):\n",
    "        self.quiz_data=[{ \"question\":\"what is the g value near equator?\",\"options\":[\"0\",\"9.8\",\"20\",\"none\"]\n",
    ",\"correct answer\":0},{\"question\":\"what is the sum of 2 and 3?\",\"options\":[\"9\",\"9.8\",\"5\",\"none\"]\n",
    ",\"correct answer\":2}]\n",
    "        self.current_question_index=0\n",
    "        self.score=0\n",
    "        self.window=tk.Tk()\n",
    "        self.window.title(\"Quiz App\")\n",
    "        self.question_label=tk.Label(self.window,text=\"\")\n",
    "        self.question_label.pack()\n",
    "        self.options_frame=tk.Frame(self.window)\n",
    "        self.options_frame.pack()\n",
    "        self.option_buttons=[]\n",
    "        for i in range(4):\n",
    "            button=tk.Button(self.options_frame,text=\"\",width=30,command=lambda i=i: self.check_answer(i))\n",
    "            button.pack(pady=5)\n",
    "            self.option_buttons.append(button)\n",
    "        self.next_question_button=tk.Button(self.window,text=\"Next Question\",width=30,command=self.next_question)\n",
    "        self.next_question_button.pack(pady=5)\n",
    "    def check_answer(self,selected_option):\n",
    "        question_data=self.quiz_data[self.current_question_index]\n",
    "        answer=question_data[\"correct answer\"]\n",
    "        if selected_option==answer:\n",
    "            self.score=self.score + 1\n",
    "            messagebox.showinfo(\"Correct\",\"Your answer is correct\")\n",
    "        else:\n",
    "            messagebox.showinfo(\"Incorrect\",\"your answer is incorrect\")\n",
    "    def next_question(self):\n",
    "        self.current_question_index +=1\n",
    "        if self.current_question_index==len(self.quiz_data):\n",
    "            messagebox.showinfo(\"Quiz Over!!\",\"Your Score is \"+str(self.score))\n",
    "        else:\n",
    "            self.load_question()\n",
    "\n",
    "    def start_quiz(self):\n",
    "        self.load_question()\n",
    "        self.window.mainloop()\n",
    "    def load_question(self):\n",
    "        question_data=self.quiz_data[self.current_question_index]\n",
    "        self.question_label.config(text=question_data[\"question\"])\n",
    "        options=question_data[\"options\"]\n",
    "        for i in range(4):\n",
    "            self.option_buttons[i].config(text= options[i])\n",
    "        \n",
    "quiz_app=QuizApp()\n",
    "quiz_app.start_quiz()\n"
   ]
  },
  {
   "cell_type": "code",
   "execution_count": null,
   "id": "91fcdd5d",
   "metadata": {},
   "outputs": [],
   "source": []
  },
  {
   "cell_type": "code",
   "execution_count": null,
   "id": "47379e45",
   "metadata": {},
   "outputs": [],
   "source": []
  }
 ],
 "metadata": {
  "kernelspec": {
   "display_name": "Python 3 (ipykernel)",
   "language": "python",
   "name": "python3"
  },
  "language_info": {
   "codemirror_mode": {
    "name": "ipython",
    "version": 3
   },
   "file_extension": ".py",
   "mimetype": "text/x-python",
   "name": "python",
   "nbconvert_exporter": "python",
   "pygments_lexer": "ipython3",
   "version": "3.11.0"
  }
 },
 "nbformat": 4,
 "nbformat_minor": 5
}
